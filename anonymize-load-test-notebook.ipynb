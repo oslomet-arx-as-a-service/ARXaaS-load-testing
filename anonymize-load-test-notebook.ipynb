{
 "cells": [
  {
   "cell_type": "markdown",
   "metadata": {},
   "source": [
    "## Anonymize Load Test"
   ]
  },
  {
   "cell_type": "code",
   "execution_count": 1,
   "metadata": {},
   "outputs": [],
   "source": [
    "import pandas as pd\n",
    "from scripts import data_size_stress_test"
   ]
  },
  {
   "cell_type": "code",
   "execution_count": 2,
   "metadata": {},
   "outputs": [],
   "source": [
    "def test_dataset(row_count):\n",
    "    raw_data = test_data.test_dataset(row_count)\n",
    "    df = pd.DataFrame(raw_data)\n",
    "    df.set_index('id')\n",
    "    dataset = Dataset.from_pandas(df)\n",
    "    dataset.set_attribute(\"id\", AttributeType.IDENTIFYING)\n",
    "    dataset.set_attribute(\"name\", AttributeType.IDENTIFYING)\n",
    "    dataset.set_hierarchy(\"gender\",test_data.gender_hierarchy())\n",
    "    dataset.set_hierarchy(\"location\", test_data.location_hierarchy())\n",
    "    dataset.set_hierarchy(\"age\", test_data.age_hierarchy())\n",
    "    return dataset"
   ]
  },
  {
   "cell_type": "code",
   "execution_count": null,
   "metadata": {},
   "outputs": [],
   "source": []
  },
  {
   "cell_type": "markdown",
   "metadata": {},
   "source": [
    "### 1. Run tests"
   ]
  },
  {
   "cell_type": "code",
   "execution_count": 3,
   "metadata": {},
   "outputs": [],
   "source": [
    "batches = range(1,30)"
   ]
  },
  {
   "cell_type": "code",
   "execution_count": 4,
   "metadata": {},
   "outputs": [],
   "source": [
    "result = data_size_stress_test.dummy_data_anonymize_stress_test(batch_sizes=batches)"
   ]
  },
  {
   "cell_type": "code",
   "execution_count": 5,
   "metadata": {},
   "outputs": [
    {
     "data": {
      "text/plain": [
       "{'5000': 0.05674566500238143,\n",
       " '10000': 0.12306244500359753,\n",
       " '15000': 0.18009321900171926,\n",
       " '20000': 0.2089882759973989,\n",
       " '25000': 0.2773817209963454,\n",
       " '30000': 0.3243259169976227,\n",
       " '35000': 0.3474022869995679,\n",
       " '40000': 0.4003105739975581,\n",
       " '45000': 0.5551206139934948,\n",
       " '50000': 0.48023362600360997,\n",
       " '55000': 0.6339369699999224,\n",
       " '60000': 0.6962222049987759,\n",
       " '65000': 0.7490682569987257,\n",
       " '70000': 0.664117508000345,\n",
       " '75000': 0.75888755699998,\n",
       " '80000': 0.8061766729952069,\n",
       " '85000': 0.8445822859939653,\n",
       " '90000': 0.8817829830004484,\n",
       " '95000': 0.9397482030035462,\n",
       " '100000': 0.9832890950056026,\n",
       " '105000': 1.0369292690011207,\n",
       " '110000': 1.0955660400068155,\n",
       " '115000': 1.1027298589979182,\n",
       " '120000': 1.2066545790003147,\n",
       " '125000': 1.2631845720025012,\n",
       " '130000': 1.3007758570020087,\n",
       " '135000': 1.3321434000026784,\n",
       " '140000': 1.3649428749995423,\n",
       " '145000': 1.4113057140057208}"
      ]
     },
     "execution_count": 5,
     "metadata": {},
     "output_type": "execute_result"
    }
   ],
   "source": [
    "result"
   ]
  },
  {
   "cell_type": "code",
   "execution_count": 6,
   "metadata": {},
   "outputs": [],
   "source": [
    "result_df = pd.DataFrame.from_dict(result, orient=\"index\", columns=[\"time\"])"
   ]
  },
  {
   "cell_type": "code",
   "execution_count": 7,
   "metadata": {},
   "outputs": [
    {
     "data": {
      "text/html": [
       "<div>\n",
       "<style scoped>\n",
       "    .dataframe tbody tr th:only-of-type {\n",
       "        vertical-align: middle;\n",
       "    }\n",
       "\n",
       "    .dataframe tbody tr th {\n",
       "        vertical-align: top;\n",
       "    }\n",
       "\n",
       "    .dataframe thead th {\n",
       "        text-align: right;\n",
       "    }\n",
       "</style>\n",
       "<table border=\"1\" class=\"dataframe\">\n",
       "  <thead>\n",
       "    <tr style=\"text-align: right;\">\n",
       "      <th></th>\n",
       "      <th>time</th>\n",
       "    </tr>\n",
       "  </thead>\n",
       "  <tbody>\n",
       "    <tr>\n",
       "      <th>5000</th>\n",
       "      <td>0.056746</td>\n",
       "    </tr>\n",
       "    <tr>\n",
       "      <th>10000</th>\n",
       "      <td>0.123062</td>\n",
       "    </tr>\n",
       "    <tr>\n",
       "      <th>15000</th>\n",
       "      <td>0.180093</td>\n",
       "    </tr>\n",
       "    <tr>\n",
       "      <th>20000</th>\n",
       "      <td>0.208988</td>\n",
       "    </tr>\n",
       "    <tr>\n",
       "      <th>25000</th>\n",
       "      <td>0.277382</td>\n",
       "    </tr>\n",
       "    <tr>\n",
       "      <th>30000</th>\n",
       "      <td>0.324326</td>\n",
       "    </tr>\n",
       "    <tr>\n",
       "      <th>35000</th>\n",
       "      <td>0.347402</td>\n",
       "    </tr>\n",
       "    <tr>\n",
       "      <th>40000</th>\n",
       "      <td>0.400311</td>\n",
       "    </tr>\n",
       "    <tr>\n",
       "      <th>45000</th>\n",
       "      <td>0.555121</td>\n",
       "    </tr>\n",
       "    <tr>\n",
       "      <th>50000</th>\n",
       "      <td>0.480234</td>\n",
       "    </tr>\n",
       "    <tr>\n",
       "      <th>55000</th>\n",
       "      <td>0.633937</td>\n",
       "    </tr>\n",
       "    <tr>\n",
       "      <th>60000</th>\n",
       "      <td>0.696222</td>\n",
       "    </tr>\n",
       "    <tr>\n",
       "      <th>65000</th>\n",
       "      <td>0.749068</td>\n",
       "    </tr>\n",
       "    <tr>\n",
       "      <th>70000</th>\n",
       "      <td>0.664118</td>\n",
       "    </tr>\n",
       "    <tr>\n",
       "      <th>75000</th>\n",
       "      <td>0.758888</td>\n",
       "    </tr>\n",
       "    <tr>\n",
       "      <th>80000</th>\n",
       "      <td>0.806177</td>\n",
       "    </tr>\n",
       "    <tr>\n",
       "      <th>85000</th>\n",
       "      <td>0.844582</td>\n",
       "    </tr>\n",
       "    <tr>\n",
       "      <th>90000</th>\n",
       "      <td>0.881783</td>\n",
       "    </tr>\n",
       "    <tr>\n",
       "      <th>95000</th>\n",
       "      <td>0.939748</td>\n",
       "    </tr>\n",
       "    <tr>\n",
       "      <th>100000</th>\n",
       "      <td>0.983289</td>\n",
       "    </tr>\n",
       "    <tr>\n",
       "      <th>105000</th>\n",
       "      <td>1.036929</td>\n",
       "    </tr>\n",
       "    <tr>\n",
       "      <th>110000</th>\n",
       "      <td>1.095566</td>\n",
       "    </tr>\n",
       "    <tr>\n",
       "      <th>115000</th>\n",
       "      <td>1.102730</td>\n",
       "    </tr>\n",
       "    <tr>\n",
       "      <th>120000</th>\n",
       "      <td>1.206655</td>\n",
       "    </tr>\n",
       "    <tr>\n",
       "      <th>125000</th>\n",
       "      <td>1.263185</td>\n",
       "    </tr>\n",
       "    <tr>\n",
       "      <th>130000</th>\n",
       "      <td>1.300776</td>\n",
       "    </tr>\n",
       "    <tr>\n",
       "      <th>135000</th>\n",
       "      <td>1.332143</td>\n",
       "    </tr>\n",
       "    <tr>\n",
       "      <th>140000</th>\n",
       "      <td>1.364943</td>\n",
       "    </tr>\n",
       "    <tr>\n",
       "      <th>145000</th>\n",
       "      <td>1.411306</td>\n",
       "    </tr>\n",
       "  </tbody>\n",
       "</table>\n",
       "</div>"
      ],
      "text/plain": [
       "            time\n",
       "5000    0.056746\n",
       "10000   0.123062\n",
       "15000   0.180093\n",
       "20000   0.208988\n",
       "25000   0.277382\n",
       "30000   0.324326\n",
       "35000   0.347402\n",
       "40000   0.400311\n",
       "45000   0.555121\n",
       "50000   0.480234\n",
       "55000   0.633937\n",
       "60000   0.696222\n",
       "65000   0.749068\n",
       "70000   0.664118\n",
       "75000   0.758888\n",
       "80000   0.806177\n",
       "85000   0.844582\n",
       "90000   0.881783\n",
       "95000   0.939748\n",
       "100000  0.983289\n",
       "105000  1.036929\n",
       "110000  1.095566\n",
       "115000  1.102730\n",
       "120000  1.206655\n",
       "125000  1.263185\n",
       "130000  1.300776\n",
       "135000  1.332143\n",
       "140000  1.364943\n",
       "145000  1.411306"
      ]
     },
     "execution_count": 7,
     "metadata": {},
     "output_type": "execute_result"
    }
   ],
   "source": [
    "result_df"
   ]
  },
  {
   "cell_type": "code",
   "execution_count": 9,
   "metadata": {},
   "outputs": [
    {
     "data": {
      "image/png": "[encoded data removed]",
      "text/plain": [
       "<Figure size 432x288 with 1 Axes>"
      ]
     },
     "metadata": {
      "needs_background": "light"
     },
     "output_type": "display_data"
    }
   ],
   "source": [
    "result_df.plot();"
   ]
  },
  {
   "cell_type": "code",
   "execution_count": null,
   "metadata": {},
   "outputs": [],
   "source": []
  }
 ],
 "metadata": {
  "kernelspec": {
   "display_name": "Python (load-testing)",
   "language": "python",
   "name": "load-testing"
  },
  "language_info": {
   "codemirror_mode": {
    "name": "ipython",
    "version": 3
   },
   "file_extension": ".py",
   "mimetype": "text/x-python",
   "name": "python",
   "nbconvert_exporter": "python",
   "pygments_lexer": "ipython3",
   "version": "3.7.2"
  }
 },
 "nbformat": 4,
 "nbformat_minor": 2
}
