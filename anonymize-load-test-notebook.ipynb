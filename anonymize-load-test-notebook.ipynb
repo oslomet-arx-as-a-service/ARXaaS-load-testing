{
 "cells": [
  {
   "cell_type": "markdown",
   "metadata": {},
   "source": [
    "## Anonymize Load Test"
   ]
  },
  {
   "cell_type": "code",
   "execution_count": 6,
   "metadata": {},
   "outputs": [],
   "source": [
    "from pyaaas.models.dataset import Dataset\n",
    "from pyaaas.aaas import AaaS\n",
    "from pyaaas.models.attribute_type import AttributeType\n",
    "from pyaaas.models.privacy_models import KAnonymity\n",
    "import pandas as pd\n",
    "from scripts import test_data\n",
    "import timeit"
   ]
  },
  {
   "cell_type": "code",
   "execution_count": 7,
   "metadata": {},
   "outputs": [],
   "source": [
    "def test_dataset(row_count):\n",
    "    raw_data = test_data.test_dataset(row_count)\n",
    "    df = pd.DataFrame(raw_data)\n",
    "    df.set_index('id')\n",
    "    dataset = Dataset.from_pandas(df)\n",
    "    dataset.set_attribute(\"id\", AttributeType.IDENTIFYING)\n",
    "    dataset.set_attribute(\"name\", AttributeType.IDENTIFYING)\n",
    "    dataset.set_hierarchy(\"gender\",test_data.gender_hierarchy())\n",
    "    dataset.set_hierarchy(\"location\", test_data.location_hierarchy())\n",
    "    dataset.set_hierarchy(\"age\", test_data.age_hierarchy())\n",
    "    return dataset"
   ]
  },
  {
   "cell_type": "code",
   "execution_count": 8,
   "metadata": {},
   "outputs": [],
   "source": [
    "def run_test(dataset):\n",
    "    risk_profile = con.anonymize(dataset, [KAnonymity(4)])"
   ]
  },
  {
   "cell_type": "code",
   "execution_count": 9,
   "metadata": {},
   "outputs": [
    {
     "data": {
      "text/html": [
       "<div>\n",
       "<style scoped>\n",
       "    .dataframe tbody tr th:only-of-type {\n",
       "        vertical-align: middle;\n",
       "    }\n",
       "\n",
       "    .dataframe tbody tr th {\n",
       "        vertical-align: top;\n",
       "    }\n",
       "\n",
       "    .dataframe thead th {\n",
       "        text-align: right;\n",
       "    }\n",
       "</style>\n",
       "<table border=\"1\" class=\"dataframe\">\n",
       "  <thead>\n",
       "    <tr style=\"text-align: right;\">\n",
       "      <th></th>\n",
       "      <th>0</th>\n",
       "      <th>1</th>\n",
       "      <th>2</th>\n",
       "      <th>3</th>\n",
       "    </tr>\n",
       "  </thead>\n",
       "  <tbody>\n",
       "    <tr>\n",
       "      <th>0</th>\n",
       "      <td>Oslo</td>\n",
       "      <td>{Oslo, Bergen}</td>\n",
       "      <td>{Oslo, Bergen, London, Moscow}</td>\n",
       "      <td>*</td>\n",
       "    </tr>\n",
       "    <tr>\n",
       "      <th>1</th>\n",
       "      <td>Bergen</td>\n",
       "      <td>{Oslo, Bergen}</td>\n",
       "      <td>{Oslo, Bergen, London, Moscow}</td>\n",
       "      <td>*</td>\n",
       "    </tr>\n",
       "    <tr>\n",
       "      <th>2</th>\n",
       "      <td>London</td>\n",
       "      <td>{London, Moscow}</td>\n",
       "      <td>{Oslo, Bergen, London, Moscow}</td>\n",
       "      <td>*</td>\n",
       "    </tr>\n",
       "    <tr>\n",
       "      <th>3</th>\n",
       "      <td>Moscow</td>\n",
       "      <td>{London, Moscow}</td>\n",
       "      <td>{Oslo, Bergen, London, Moscow}</td>\n",
       "      <td>*</td>\n",
       "    </tr>\n",
       "    <tr>\n",
       "      <th>4</th>\n",
       "      <td>Bejing</td>\n",
       "      <td>{Bejing, Tokyo}</td>\n",
       "      <td>{Bejing, Tokyo, Miami}</td>\n",
       "      <td>*</td>\n",
       "    </tr>\n",
       "    <tr>\n",
       "      <th>5</th>\n",
       "      <td>Tokyo</td>\n",
       "      <td>{Bejing, Tokyo}</td>\n",
       "      <td>{Bejing, Tokyo, Miami}</td>\n",
       "      <td>*</td>\n",
       "    </tr>\n",
       "    <tr>\n",
       "      <th>6</th>\n",
       "      <td>Miami</td>\n",
       "      <td>{Miami}</td>\n",
       "      <td>{Bejing, Tokyo, Miami}</td>\n",
       "      <td>*</td>\n",
       "    </tr>\n",
       "  </tbody>\n",
       "</table>\n",
       "</div>"
      ],
      "text/plain": [
       "        0                 1                               2  3\n",
       "0    Oslo    {Oslo, Bergen}  {Oslo, Bergen, London, Moscow}  *\n",
       "1  Bergen    {Oslo, Bergen}  {Oslo, Bergen, London, Moscow}  *\n",
       "2  London  {London, Moscow}  {Oslo, Bergen, London, Moscow}  *\n",
       "3  Moscow  {London, Moscow}  {Oslo, Bergen, London, Moscow}  *\n",
       "4  Bejing   {Bejing, Tokyo}          {Bejing, Tokyo, Miami}  *\n",
       "5   Tokyo   {Bejing, Tokyo}          {Bejing, Tokyo, Miami}  *\n",
       "6   Miami           {Miami}          {Bejing, Tokyo, Miami}  *"
      ]
     },
     "execution_count": 9,
     "metadata": {},
     "output_type": "execute_result"
    }
   ],
   "source": [
    "loc_h = test_data.location_hierarchy()\n",
    "loc_h"
   ]
  },
  {
   "cell_type": "markdown",
   "metadata": {},
   "source": [
    "### 1. Run tests"
   ]
  },
  {
   "cell_type": "code",
   "execution_count": 10,
   "metadata": {},
   "outputs": [],
   "source": [
    "con = AaaS(\"http://localhost:8080\")\n",
    "batches = (1000, 10000, 100000, 1000000)\n",
    "result = {}\n",
    "for batch in batches:\n",
    "    elapsed_time = timeit.timeit(f\"run_test(dataset)\",\n",
    "                                 setup=f\"dataset = test_dataset({batch})\",\n",
    "                                 globals=globals(),\n",
    "                                 number=1)\n",
    "    result[str(batch)] = elapsed_time\n",
    "    "
   ]
  },
  {
   "cell_type": "code",
   "execution_count": 11,
   "metadata": {},
   "outputs": [
    {
     "data": {
      "text/plain": [
       "{'1000': 0.049428618996898877,\n",
       " '10000': 0.0842143859990756,\n",
       " '100000': 0.6671698829995876,\n",
       " '1000000': 7.944885950997559}"
      ]
     },
     "execution_count": 11,
     "metadata": {},
     "output_type": "execute_result"
    }
   ],
   "source": [
    "result"
   ]
  },
  {
   "cell_type": "code",
   "execution_count": 15,
   "metadata": {},
   "outputs": [],
   "source": [
    "result_df = pd.DataFrame.from_dict(result, orient=\"index\", columns=[\"time\"])"
   ]
  },
  {
   "cell_type": "code",
   "execution_count": 16,
   "metadata": {},
   "outputs": [
    {
     "data": {
      "text/html": [
       "<div>\n",
       "<style scoped>\n",
       "    .dataframe tbody tr th:only-of-type {\n",
       "        vertical-align: middle;\n",
       "    }\n",
       "\n",
       "    .dataframe tbody tr th {\n",
       "        vertical-align: top;\n",
       "    }\n",
       "\n",
       "    .dataframe thead th {\n",
       "        text-align: right;\n",
       "    }\n",
       "</style>\n",
       "<table border=\"1\" class=\"dataframe\">\n",
       "  <thead>\n",
       "    <tr style=\"text-align: right;\">\n",
       "      <th></th>\n",
       "      <th>time</th>\n",
       "    </tr>\n",
       "  </thead>\n",
       "  <tbody>\n",
       "    <tr>\n",
       "      <th>1000</th>\n",
       "      <td>0.049429</td>\n",
       "    </tr>\n",
       "    <tr>\n",
       "      <th>10000</th>\n",
       "      <td>0.084214</td>\n",
       "    </tr>\n",
       "    <tr>\n",
       "      <th>100000</th>\n",
       "      <td>0.667170</td>\n",
       "    </tr>\n",
       "    <tr>\n",
       "      <th>1000000</th>\n",
       "      <td>7.944886</td>\n",
       "    </tr>\n",
       "  </tbody>\n",
       "</table>\n",
       "</div>"
      ],
      "text/plain": [
       "             time\n",
       "1000     0.049429\n",
       "10000    0.084214\n",
       "100000   0.667170\n",
       "1000000  7.944886"
      ]
     },
     "execution_count": 16,
     "metadata": {},
     "output_type": "execute_result"
    }
   ],
   "source": [
    "result_df"
   ]
  },
  {
   "cell_type": "code",
   "execution_count": 18,
   "metadata": {},
   "outputs": [
    {
     "data": {
      "image/png": "[encoded data removed]",
      "text/plain": [
       "<Figure size 432x288 with 1 Axes>"
      ]
     },
     "metadata": {
      "needs_background": "light"
     },
     "output_type": "display_data"
    }
   ],
   "source": [
    "result_df.plot();"
   ]
  },
  {
   "cell_type": "code",
   "execution_count": null,
   "metadata": {},
   "outputs": [],
   "source": []
  }
 ],
 "metadata": {
  "kernelspec": {
   "display_name": "Python (load-testing)",
   "language": "python",
   "name": "load-testing"
  },
  "language_info": {
   "codemirror_mode": {
    "name": "ipython",
    "version": 3
   },
   "file_extension": ".py",
   "mimetype": "text/x-python",
   "name": "python",
   "nbconvert_exporter": "python",
   "pygments_lexer": "ipython3",
   "version": "3.7.2"
  }
 },
 "nbformat": 4,
 "nbformat_minor": 2
}
