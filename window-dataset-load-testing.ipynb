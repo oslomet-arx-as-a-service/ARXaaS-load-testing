{
 "cells": [
  {
   "cell_type": "markdown",
   "metadata": {},
   "source": [
    "## ROWxCOLUMNS Stress test"
   ]
  },
  {
   "cell_type": "markdown",
   "metadata": {},
   "source": [
    "Stress test with increased rows and columns\n",
    "12.04.19\n",
    "\n",
    "#### nais configs:\n",
    "\n",
    "replicas:\n",
    "\n",
    "    min: 1\n",
    "    max: 1\n",
    "\n",
    "resources:\n",
    "\n",
    "    limits:\n",
    "  \n",
    "        cpu: 1500m\n",
    "        memory: 4800Mi\n",
    "    \n",
    "    requests:\n",
    "  \n",
    "        cpu: 200m\n",
    "        memory: 512Mi"
   ]
  },
  {
   "cell_type": "code",
   "execution_count": 33,
   "metadata": {},
   "outputs": [],
   "source": [
    "from pyaaas.models.dataset import Dataset\n",
    "from pyaaas.aaas import AaaS\n",
    "from pyaaas.models.attribute_type import AttributeType\n",
    "import pandas as pd\n",
    "from scripts.data.test_data import generate_dataset\n",
    "from scripts.data_size_stress_test import dataset_window_analyze_stress_test\n",
    "import timeit\n",
    "import requests"
   ]
  },
  {
   "cell_type": "code",
   "execution_count": null,
   "metadata": {},
   "outputs": [],
   "source": [
    "url = \"ADD URL HERE\""
   ]
  },
  {
   "cell_type": "code",
   "execution_count": 2,
   "metadata": {},
   "outputs": [],
   "source": [
    "s  = requests.Session()\n",
    "s.verify = False\n",
    "con = AaaS(url, client=s)"
   ]
  },
  {
   "cell_type": "markdown",
   "metadata": {},
   "source": [
    "### Dataset example"
   ]
  },
  {
   "cell_type": "code",
   "execution_count": 36,
   "metadata": {},
   "outputs": [
    {
     "data": {
      "text/html": [
       "<div>\n",
       "<style scoped>\n",
       "    .dataframe tbody tr th:only-of-type {\n",
       "        vertical-align: middle;\n",
       "    }\n",
       "\n",
       "    .dataframe tbody tr th {\n",
       "        vertical-align: top;\n",
       "    }\n",
       "\n",
       "    .dataframe thead th {\n",
       "        text-align: right;\n",
       "    }\n",
       "</style>\n",
       "<table border=\"1\" class=\"dataframe\">\n",
       "  <thead>\n",
       "    <tr style=\"text-align: right;\">\n",
       "      <th></th>\n",
       "      <th>name42</th>\n",
       "      <th>age35</th>\n",
       "      <th>gender29</th>\n",
       "      <th>location24</th>\n",
       "      <th>name43</th>\n",
       "      <th>age36</th>\n",
       "      <th>gender30</th>\n",
       "      <th>location25</th>\n",
       "    </tr>\n",
       "  </thead>\n",
       "  <tbody>\n",
       "    <tr>\n",
       "      <th>0</th>\n",
       "      <td>vtvkzewqgt</td>\n",
       "      <td>21</td>\n",
       "      <td>male</td>\n",
       "      <td>Miami</td>\n",
       "      <td>iceglyzyeu</td>\n",
       "      <td>80</td>\n",
       "      <td>female</td>\n",
       "      <td>London</td>\n",
       "    </tr>\n",
       "    <tr>\n",
       "      <th>1</th>\n",
       "      <td>ucfbturvpq</td>\n",
       "      <td>67</td>\n",
       "      <td>male</td>\n",
       "      <td>Oslo</td>\n",
       "      <td>nxctvwqhoj</td>\n",
       "      <td>79</td>\n",
       "      <td>male</td>\n",
       "      <td>Bergen</td>\n",
       "    </tr>\n",
       "    <tr>\n",
       "      <th>2</th>\n",
       "      <td>ldsrfybaai</td>\n",
       "      <td>78</td>\n",
       "      <td>female</td>\n",
       "      <td>London</td>\n",
       "      <td>zvnnpywesx</td>\n",
       "      <td>22</td>\n",
       "      <td>female</td>\n",
       "      <td>London</td>\n",
       "    </tr>\n",
       "    <tr>\n",
       "      <th>3</th>\n",
       "      <td>dytjgeyzdc</td>\n",
       "      <td>81</td>\n",
       "      <td>male</td>\n",
       "      <td>Tokyo</td>\n",
       "      <td>xugsuyqrme</td>\n",
       "      <td>16</td>\n",
       "      <td>female</td>\n",
       "      <td>Moscow</td>\n",
       "    </tr>\n",
       "    <tr>\n",
       "      <th>4</th>\n",
       "      <td>ptjkbfpria</td>\n",
       "      <td>40</td>\n",
       "      <td>male</td>\n",
       "      <td>Bergen</td>\n",
       "      <td>epvqcyedli</td>\n",
       "      <td>65</td>\n",
       "      <td>male</td>\n",
       "      <td>Miami</td>\n",
       "    </tr>\n",
       "    <tr>\n",
       "      <th>5</th>\n",
       "      <td>kpmgvyyceg</td>\n",
       "      <td>95</td>\n",
       "      <td>female</td>\n",
       "      <td>Miami</td>\n",
       "      <td>nheehiuyaf</td>\n",
       "      <td>99</td>\n",
       "      <td>female</td>\n",
       "      <td>Bergen</td>\n",
       "    </tr>\n",
       "    <tr>\n",
       "      <th>6</th>\n",
       "      <td>yjqhsdsgqm</td>\n",
       "      <td>78</td>\n",
       "      <td>female</td>\n",
       "      <td>Tokyo</td>\n",
       "      <td>szuohqxmyv</td>\n",
       "      <td>72</td>\n",
       "      <td>female</td>\n",
       "      <td>Tokyo</td>\n",
       "    </tr>\n",
       "    <tr>\n",
       "      <th>7</th>\n",
       "      <td>qykoujzcsv</td>\n",
       "      <td>57</td>\n",
       "      <td>male</td>\n",
       "      <td>Bergen</td>\n",
       "      <td>cywhpviqrr</td>\n",
       "      <td>23</td>\n",
       "      <td>female</td>\n",
       "      <td>Tokyo</td>\n",
       "    </tr>\n",
       "    <tr>\n",
       "      <th>8</th>\n",
       "      <td>bttfvkssnz</td>\n",
       "      <td>84</td>\n",
       "      <td>female</td>\n",
       "      <td>Bejing</td>\n",
       "      <td>xwosuqlpys</td>\n",
       "      <td>82</td>\n",
       "      <td>male</td>\n",
       "      <td>Tokyo</td>\n",
       "    </tr>\n",
       "    <tr>\n",
       "      <th>9</th>\n",
       "      <td>eoiqvrwitg</td>\n",
       "      <td>22</td>\n",
       "      <td>male</td>\n",
       "      <td>Miami</td>\n",
       "      <td>xihjismxqp</td>\n",
       "      <td>11</td>\n",
       "      <td>female</td>\n",
       "      <td>Bergen</td>\n",
       "    </tr>\n",
       "  </tbody>\n",
       "</table>\n",
       "</div>"
      ],
      "text/plain": [
       "       name42  age35 gender29 location24      name43  age36 gender30  \\\n",
       "0  vtvkzewqgt     21     male      Miami  iceglyzyeu     80   female   \n",
       "1  ucfbturvpq     67     male       Oslo  nxctvwqhoj     79     male   \n",
       "2  ldsrfybaai     78   female     London  zvnnpywesx     22   female   \n",
       "3  dytjgeyzdc     81     male      Tokyo  xugsuyqrme     16   female   \n",
       "4  ptjkbfpria     40     male     Bergen  epvqcyedli     65     male   \n",
       "5  kpmgvyyceg     95   female      Miami  nheehiuyaf     99   female   \n",
       "6  yjqhsdsgqm     78   female      Tokyo  szuohqxmyv     72   female   \n",
       "7  qykoujzcsv     57     male     Bergen  cywhpviqrr     23   female   \n",
       "8  bttfvkssnz     84   female     Bejing  xwosuqlpys     82     male   \n",
       "9  eoiqvrwitg     22     male      Miami  xihjismxqp     11   female   \n",
       "\n",
       "  location25  \n",
       "0     London  \n",
       "1     Bergen  \n",
       "2     London  \n",
       "3     Moscow  \n",
       "4      Miami  \n",
       "5     Bergen  \n",
       "6      Tokyo  \n",
       "7      Tokyo  \n",
       "8      Tokyo  \n",
       "9     Bergen  "
      ]
     },
     "execution_count": 36,
     "metadata": {},
     "output_type": "execute_result"
    }
   ],
   "source": [
    "ds = generate_dataset(10,8)\n",
    "ds.to_dataframe()"
   ]
  },
  {
   "cell_type": "code",
   "execution_count": 3,
   "metadata": {},
   "outputs": [
    {
     "data": {
      "text/plain": [
       "[(50000, 1),\n",
       " (100000, 2),\n",
       " (150000, 2),\n",
       " (200000, 3),\n",
       " (250000, 3),\n",
       " (300000, 4),\n",
       " (350000, 4),\n",
       " (400000, 5),\n",
       " (450000, 5),\n",
       " (500000, 6),\n",
       " (550000, 6),\n",
       " (600000, 7),\n",
       " (650000, 7),\n",
       " (700000, 8),\n",
       " (750000, 8),\n",
       " (800000, 9),\n",
       " (850000, 9),\n",
       " (900000, 10),\n",
       " (950000, 10),\n",
       " (1000000, 11)]"
      ]
     },
     "execution_count": 3,
     "metadata": {},
     "output_type": "execute_result"
    }
   ],
   "source": [
    "shapes = [(n, int(n*0.00001)+1) for n in range(50000, 1050000, 50000)]\n",
    "shapes"
   ]
  },
  {
   "cell_type": "code",
   "execution_count": 4,
   "metadata": {},
   "outputs": [
    {
     "name": "stderr",
     "output_type": "stream",
     "text": [
      "/home/H153869/PycharmProjects/pyarxaas-workshop/venv/lib/python3.7/site-packages/urllib3/connectionpool.py:847: InsecureRequestWarning: Unverified HTTPS request is being made. Adding certificate verification is strongly advised. See: https://urllib3.readthedocs.io/en/latest/advanced-usage.html#ssl-warnings\n",
      "  InsecureRequestWarning)\n",
      "/home/H153869/PycharmProjects/pyarxaas-workshop/venv/lib/python3.7/site-packages/urllib3/connectionpool.py:847: InsecureRequestWarning: Unverified HTTPS request is being made. Adding certificate verification is strongly advised. See: https://urllib3.readthedocs.io/en/latest/advanced-usage.html#ssl-warnings\n",
      "  InsecureRequestWarning)\n",
      "/home/H153869/PycharmProjects/pyarxaas-workshop/venv/lib/python3.7/site-packages/urllib3/connectionpool.py:847: InsecureRequestWarning: Unverified HTTPS request is being made. Adding certificate verification is strongly advised. See: https://urllib3.readthedocs.io/en/latest/advanced-usage.html#ssl-warnings\n",
      "  InsecureRequestWarning)\n",
      "/home/H153869/PycharmProjects/pyarxaas-workshop/venv/lib/python3.7/site-packages/urllib3/connectionpool.py:847: InsecureRequestWarning: Unverified HTTPS request is being made. Adding certificate verification is strongly advised. See: https://urllib3.readthedocs.io/en/latest/advanced-usage.html#ssl-warnings\n",
      "  InsecureRequestWarning)\n",
      "/home/H153869/PycharmProjects/pyarxaas-workshop/venv/lib/python3.7/site-packages/urllib3/connectionpool.py:847: InsecureRequestWarning: Unverified HTTPS request is being made. Adding certificate verification is strongly advised. See: https://urllib3.readthedocs.io/en/latest/advanced-usage.html#ssl-warnings\n",
      "  InsecureRequestWarning)\n",
      "/home/H153869/PycharmProjects/pyarxaas-workshop/venv/lib/python3.7/site-packages/urllib3/connectionpool.py:847: InsecureRequestWarning: Unverified HTTPS request is being made. Adding certificate verification is strongly advised. See: https://urllib3.readthedocs.io/en/latest/advanced-usage.html#ssl-warnings\n",
      "  InsecureRequestWarning)\n",
      "/home/H153869/PycharmProjects/pyarxaas-workshop/venv/lib/python3.7/site-packages/urllib3/connectionpool.py:847: InsecureRequestWarning: Unverified HTTPS request is being made. Adding certificate verification is strongly advised. See: https://urllib3.readthedocs.io/en/latest/advanced-usage.html#ssl-warnings\n",
      "  InsecureRequestWarning)\n",
      "/home/H153869/PycharmProjects/pyarxaas-workshop/venv/lib/python3.7/site-packages/urllib3/connectionpool.py:847: InsecureRequestWarning: Unverified HTTPS request is being made. Adding certificate verification is strongly advised. See: https://urllib3.readthedocs.io/en/latest/advanced-usage.html#ssl-warnings\n",
      "  InsecureRequestWarning)\n",
      "/home/H153869/PycharmProjects/pyarxaas-workshop/venv/lib/python3.7/site-packages/urllib3/connectionpool.py:847: InsecureRequestWarning: Unverified HTTPS request is being made. Adding certificate verification is strongly advised. See: https://urllib3.readthedocs.io/en/latest/advanced-usage.html#ssl-warnings\n",
      "  InsecureRequestWarning)\n",
      "/home/H153869/PycharmProjects/pyarxaas-workshop/venv/lib/python3.7/site-packages/urllib3/connectionpool.py:847: InsecureRequestWarning: Unverified HTTPS request is being made. Adding certificate verification is strongly advised. See: https://urllib3.readthedocs.io/en/latest/advanced-usage.html#ssl-warnings\n",
      "  InsecureRequestWarning)\n",
      "/home/H153869/PycharmProjects/pyarxaas-workshop/venv/lib/python3.7/site-packages/urllib3/connectionpool.py:847: InsecureRequestWarning: Unverified HTTPS request is being made. Adding certificate verification is strongly advised. See: https://urllib3.readthedocs.io/en/latest/advanced-usage.html#ssl-warnings\n",
      "  InsecureRequestWarning)\n",
      "/home/H153869/PycharmProjects/pyarxaas-workshop/venv/lib/python3.7/site-packages/urllib3/connectionpool.py:847: InsecureRequestWarning: Unverified HTTPS request is being made. Adding certificate verification is strongly advised. See: https://urllib3.readthedocs.io/en/latest/advanced-usage.html#ssl-warnings\n",
      "  InsecureRequestWarning)\n",
      "/home/H153869/PycharmProjects/pyarxaas-workshop/venv/lib/python3.7/site-packages/urllib3/connectionpool.py:847: InsecureRequestWarning: Unverified HTTPS request is being made. Adding certificate verification is strongly advised. See: https://urllib3.readthedocs.io/en/latest/advanced-usage.html#ssl-warnings\n",
      "  InsecureRequestWarning)\n",
      "/home/H153869/PycharmProjects/pyarxaas-workshop/venv/lib/python3.7/site-packages/urllib3/connectionpool.py:847: InsecureRequestWarning: Unverified HTTPS request is being made. Adding certificate verification is strongly advised. See: https://urllib3.readthedocs.io/en/latest/advanced-usage.html#ssl-warnings\n",
      "  InsecureRequestWarning)\n",
      "/home/H153869/PycharmProjects/pyarxaas-workshop/venv/lib/python3.7/site-packages/urllib3/connectionpool.py:847: InsecureRequestWarning: Unverified HTTPS request is being made. Adding certificate verification is strongly advised. See: https://urllib3.readthedocs.io/en/latest/advanced-usage.html#ssl-warnings\n",
      "  InsecureRequestWarning)\n",
      "/home/H153869/PycharmProjects/pyarxaas-workshop/venv/lib/python3.7/site-packages/urllib3/connectionpool.py:847: InsecureRequestWarning: Unverified HTTPS request is being made. Adding certificate verification is strongly advised. See: https://urllib3.readthedocs.io/en/latest/advanced-usage.html#ssl-warnings\n",
      "  InsecureRequestWarning)\n",
      "/home/H153869/PycharmProjects/pyarxaas-workshop/venv/lib/python3.7/site-packages/urllib3/connectionpool.py:847: InsecureRequestWarning: Unverified HTTPS request is being made. Adding certificate verification is strongly advised. See: https://urllib3.readthedocs.io/en/latest/advanced-usage.html#ssl-warnings\n",
      "  InsecureRequestWarning)\n",
      "/home/H153869/PycharmProjects/pyarxaas-workshop/venv/lib/python3.7/site-packages/urllib3/connectionpool.py:847: InsecureRequestWarning: Unverified HTTPS request is being made. Adding certificate verification is strongly advised. See: https://urllib3.readthedocs.io/en/latest/advanced-usage.html#ssl-warnings\n",
      "  InsecureRequestWarning)\n",
      "/home/H153869/PycharmProjects/pyarxaas-workshop/venv/lib/python3.7/site-packages/urllib3/connectionpool.py:847: InsecureRequestWarning: Unverified HTTPS request is being made. Adding certificate verification is strongly advised. See: https://urllib3.readthedocs.io/en/latest/advanced-usage.html#ssl-warnings\n",
      "  InsecureRequestWarning)\n",
      "/home/H153869/PycharmProjects/pyarxaas-workshop/venv/lib/python3.7/site-packages/urllib3/connectionpool.py:847: InsecureRequestWarning: Unverified HTTPS request is being made. Adding certificate verification is strongly advised. See: https://urllib3.readthedocs.io/en/latest/advanced-usage.html#ssl-warnings\n",
      "  InsecureRequestWarning)\n"
     ]
    }
   ],
   "source": [
    "result_dict = {}\n",
    "for result in dataset_window_analyze_stress_test(shapes=shapes, connector=con):\n",
    "    result_dict.update(result)"
   ]
  },
  {
   "cell_type": "code",
   "execution_count": null,
   "metadata": {},
   "outputs": [],
   "source": []
  },
  {
   "cell_type": "code",
   "execution_count": 27,
   "metadata": {},
   "outputs": [],
   "source": [
    "row_column_dict = {rowxcol:value[0] for rowxcol, value in result_dict.items()}"
   ]
  },
  {
   "cell_type": "code",
   "execution_count": 28,
   "metadata": {},
   "outputs": [],
   "source": [
    "result_df = pd.DataFrame.from_dict(row_column_dict, orient=\"index\", columns=[\"response_time\"])"
   ]
  },
  {
   "cell_type": "code",
   "execution_count": 38,
   "metadata": {},
   "outputs": [
    {
     "data": {
      "text/plain": [
       "Text(0, 0.5, 'seconds')"
      ]
     },
     "execution_count": 38,
     "metadata": {},
     "output_type": "execute_result"
    },
    {
     "data": {
      "image/png": "[encoded data removed]",
      "text/plain": [
       "<Figure size 1080x720 with 1 Axes>"
      ]
     },
     "metadata": {
      "needs_background": "light"
     },
     "output_type": "display_data"
    }
   ],
   "source": [
    "ax = result_df.plot(figsize=(15,10), title=\"Response time by ROWxCOLUMN combo\")\n",
    "ax.set_xlabel(\"ROWxCOLUMN\")\n",
    "ax.set_ylabel(\"seconds\")"
   ]
  },
  {
   "cell_type": "code",
   "execution_count": 30,
   "metadata": {},
   "outputs": [],
   "source": [
    "mb_size_dict = {(value[1] * 10**-6):value[0] for rowxcol, value in result_dict.items()}"
   ]
  },
  {
   "cell_type": "code",
   "execution_count": 31,
   "metadata": {},
   "outputs": [
    {
     "data": {
      "text/html": [
       "<div>\n",
       "<style scoped>\n",
       "    .dataframe tbody tr th:only-of-type {\n",
       "        vertical-align: middle;\n",
       "    }\n",
       "\n",
       "    .dataframe tbody tr th {\n",
       "        vertical-align: top;\n",
       "    }\n",
       "\n",
       "    .dataframe thead th {\n",
       "        text-align: right;\n",
       "    }\n",
       "</style>\n",
       "<table border=\"1\" class=\"dataframe\">\n",
       "  <thead>\n",
       "    <tr style=\"text-align: right;\">\n",
       "      <th></th>\n",
       "      <th>response_time</th>\n",
       "    </tr>\n",
       "  </thead>\n",
       "  <tbody>\n",
       "    <tr>\n",
       "      <th>0.838946</th>\n",
       "      <td>0.179074</td>\n",
       "    </tr>\n",
       "    <tr>\n",
       "      <th>1.991252</th>\n",
       "      <td>0.754113</td>\n",
       "    </tr>\n",
       "    <tr>\n",
       "      <th>3.042144</th>\n",
       "      <td>0.468258</td>\n",
       "    </tr>\n",
       "    <tr>\n",
       "      <th>5.292885</th>\n",
       "      <td>0.687887</td>\n",
       "    </tr>\n",
       "    <tr>\n",
       "      <th>6.645196</th>\n",
       "      <td>1.232982</td>\n",
       "    </tr>\n",
       "  </tbody>\n",
       "</table>\n",
       "</div>"
      ],
      "text/plain": [
       "          response_time\n",
       "0.838946       0.179074\n",
       "1.991252       0.754113\n",
       "3.042144       0.468258\n",
       "5.292885       0.687887\n",
       "6.645196       1.232982"
      ]
     },
     "execution_count": 31,
     "metadata": {},
     "output_type": "execute_result"
    }
   ],
   "source": [
    "mb_df = pd.DataFrame.from_dict(mb_size_dict, orient=\"index\", columns=[\"response_time\"])\n",
    "mb_df.head()"
   ]
  },
  {
   "cell_type": "code",
   "execution_count": 37,
   "metadata": {},
   "outputs": [
    {
     "data": {
      "text/plain": [
       "Text(0, 0.5, 'seconds')"
      ]
     },
     "execution_count": 37,
     "metadata": {},
     "output_type": "execute_result"
    },
    {
     "data": {
      "image/png": "[encoded data removed]",
      "text/plain": [
       "<Figure size 1080x720 with 1 Axes>"
      ]
     },
     "metadata": {
      "needs_background": "light"
     },
     "output_type": "display_data"
    }
   ],
   "source": [
    "ax = mb_df.plot(figsize=(15,10), title=\"Response time by dataset size in MiB\");\n",
    "ax.set_xlabel(\"MiB\")\n",
    "ax.set_ylabel(\"seconds\")"
   ]
  },
  {
   "cell_type": "code",
   "execution_count": null,
   "metadata": {},
   "outputs": [],
   "source": []
  },
  {
   "cell_type": "code",
   "execution_count": null,
   "metadata": {},
   "outputs": [],
   "source": []
  },
  {
   "cell_type": "code",
   "execution_count": null,
   "metadata": {},
   "outputs": [],
   "source": []
  }
 ],
 "metadata": {
  "kernelspec": {
   "display_name": "Python 3(workshop)",
   "language": "python",
   "name": "venv"
  },
  "language_info": {
   "codemirror_mode": {
    "name": "ipython",
    "version": 3
   },
   "file_extension": ".py",
   "mimetype": "text/x-python",
   "name": "python",
   "nbconvert_exporter": "python",
   "pygments_lexer": "ipython3",
   "version": "3.7.2"
  }
 },
 "nbformat": 4,
 "nbformat_minor": 2
}
