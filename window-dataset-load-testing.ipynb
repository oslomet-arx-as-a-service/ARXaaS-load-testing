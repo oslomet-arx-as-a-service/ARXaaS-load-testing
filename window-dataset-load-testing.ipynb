{
 "cells": [
  {
   "cell_type": "markdown",
   "metadata": {},
   "source": [
    "## ROWxCOLUMNS Stress test"
   ]
  },
  {
   "cell_type": "code",
   "execution_count": 61,
   "metadata": {},
   "outputs": [],
   "source": [
    "from pyaaas.models.dataset import Dataset\n",
    "from pyaaas.aaas import AaaS\n",
    "from pyaaas.models.attribute_type import AttributeType\n",
    "import pandas as pd\n",
    "from scripts.data_size_stress_test import dataset_window_analyze_stress_test\n",
    "import timeit"
   ]
  },
  {
   "cell_type": "code",
   "execution_count": 62,
   "metadata": {},
   "outputs": [
    {
     "data": {
      "text/plain": [
       "[(50000, 1),\n",
       " (100000, 2),\n",
       " (150000, 2),\n",
       " (200000, 3),\n",
       " (250000, 3),\n",
       " (300000, 4),\n",
       " (350000, 4),\n",
       " (400000, 5),\n",
       " (450000, 5),\n",
       " (500000, 6),\n",
       " (550000, 6),\n",
       " (600000, 7),\n",
       " (650000, 7),\n",
       " (700000, 8),\n",
       " (750000, 8),\n",
       " (800000, 9),\n",
       " (850000, 9),\n",
       " (900000, 10),\n",
       " (950000, 10),\n",
       " (1000000, 11)]"
      ]
     },
     "execution_count": 62,
     "metadata": {},
     "output_type": "execute_result"
    }
   ],
   "source": [
    "shapes = [(n, int(n*0.00001)+1) for n in range(50000, 1050000, 50000)]\n",
    "shapes"
   ]
  },
  {
   "cell_type": "code",
   "execution_count": 63,
   "metadata": {},
   "outputs": [],
   "source": [
    "result = dataset_window_analyze_stress_test(shapes=shapes)"
   ]
  },
  {
   "cell_type": "code",
   "execution_count": 64,
   "metadata": {},
   "outputs": [],
   "source": [
    "result_df = pd.DataFrame.from_dict(result, orient=\"index\", columns=[\"time\"])"
   ]
  },
  {
   "cell_type": "code",
   "execution_count": 65,
   "metadata": {},
   "outputs": [
    {
     "data": {
      "image/png": "[encoded data removed]",
      "text/plain": [
       "<Figure size 432x288 with 1 Axes>"
      ]
     },
     "metadata": {
      "needs_background": "light"
     },
     "output_type": "display_data"
    }
   ],
   "source": [
    "result_df.plot();"
   ]
  },
  {
   "cell_type": "code",
   "execution_count": null,
   "metadata": {},
   "outputs": [],
   "source": []
  }
 ],
 "metadata": {
  "kernelspec": {
   "display_name": "Python (load-testing)",
   "language": "python",
   "name": "load-testing"
  },
  "language_info": {
   "codemirror_mode": {
    "name": "ipython",
    "version": 3
   },
   "file_extension": ".py",
   "mimetype": "text/x-python",
   "name": "python",
   "nbconvert_exporter": "python",
   "pygments_lexer": "ipython3",
   "version": "3.7.2"
  }
 },
 "nbformat": 4,
 "nbformat_minor": 2
}
